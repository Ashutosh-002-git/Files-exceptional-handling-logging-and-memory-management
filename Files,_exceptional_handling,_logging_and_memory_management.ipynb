{
  "nbformat": 4,
  "nbformat_minor": 0,
  "metadata": {
    "colab": {
      "provenance": []
    },
    "kernelspec": {
      "name": "python3",
      "display_name": "Python 3"
    },
    "language_info": {
      "name": "python"
    }
  },
  "cells": [
    {
      "cell_type": "markdown",
      "source": [
        "1. What is the difference between interpreted and compiled languages?  \n",
        "  - The core difference between interpreted and compiled language is that, in Interpreted language the source code is executed line by line at runtime while in compiled language the source code is translated to machine code by a compiler before the execution.  \n",
        "    Due to which compiled language is faster in execution where as interpreted languages takes extra time to compile.  \n",
        "      \n",
        "2. What is exception handling in Python?  \n",
        "  - Exception hanlding is a technique in python which is used to manage,detect,respond to error that occurs during the time of execution of program without stopping the whole program.  \n",
        "\n",
        "3. What is the purpose of the finally block in exception handling?  \n",
        "  - The main purpose of the finally block in exception handling is to ensure that a specific block of code always runs, no matter what happens—whether an exception is raised or not, and whether it is caught or not.  \n",
        "\n",
        "4. What is logging in Python?  \n",
        "  - Logging is a method to record the state and flow of the program/code. It is useful in understanding, monitoring and debugging the code.  \n",
        "\n",
        "5. What is the significance of the __del__ method in Python?  \n",
        "  - `__del__` is a special method  in python also known as destructor. It is used to clean or free up the resources like closing files .  \n",
        "    It is automatically invoked when an object is about to be destroyed.  \n",
        "\n",
        "6. What is the difference between import and from ... import in Python?  \n",
        "  - `import` imports the entire module or librabry whereas `from import` imports just a method,funnction,variable or class from a module.  \n",
        "\n",
        "7. How can you handle multiple exceptions in Python?  \n",
        "  - Multiple exceptions in Python can be handled in two ways either by using multiple except block or using a tuple in a single except block.  \n",
        "          #Multiple except block\n",
        "          try:\n",
        "            x = int(input(\"Enter a number: \"))\n",
        "            result = 10 / x\n",
        "          except ValueError:\n",
        "            print(\"Please enter a valid integer.\")\n",
        "          except ZeroDivisionError:\n",
        "            print(\"Cannot divide by zero.\")  \n",
        "\n",
        "          #Single except block  \n",
        "          try:\n",
        "            x = int(input(\"Enter a number: \"))\n",
        "            result = 10 / x\n",
        "          except (ValueError, ZeroDivisionError):\n",
        "            print(\"Either input was invalid or you tried to divide by zero.\")  \n",
        "              \n",
        "8. What is the purpose of the with statement when handling files in Python?  \n",
        "  - `with` statement is widely used to simplify the file handling but the main purpose of `with` statement is that it closes the file automatically upon copmletion and even if there is an error it still closes the file.  \n",
        "\n",
        "9. What is the difference between multithreading and multiprocessing?  \n",
        "  - Multithreading is when multiple threads of a single process run concurrently (one after another in a rapid manner) on a single processor. It gives the illusion of parallelism but actually shares the CPU.\n",
        "\n",
        "Multiprocessing is when multiple processes run in parallel on multiple processors or CPU cores, allowing true parallel execution.  \n",
        "\n",
        "10. What are the advantages of using logging in a program?\n",
        "  - Advantage of using logging in program is that it helps in error ddetetction and debugging process and the main advantage is that it keeps the record of the state and flow of the program/code. Which we can use later to analyze the code.  \n",
        "\n",
        "11. What is memory management in Python?\n",
        "  - Memory management in python refers to the allocation of resources,utilisation of resources and freeing the memory during the execution of the program/code. Pyhton perform all this operation automaticall making it easier for the user.  \n",
        "\n",
        "12. What are the basic steps involved in exception handling in Python?\n",
        "  - Python follows a clear set of steps to counter runtime error gracefully.  \n",
        "  1st step is try block:- Inside this block we place the code which may raise a exception.\n",
        "  2nd step is except block:- Handle the exception\n",
        "  3rd step is else block:- It runs only when try block doesn't raises a concern.\n",
        "  4th step is finally block:- It runs no matter if the exception was raised or not .   \n",
        "\n",
        "13. Why is memory management important in Python?\n",
        "  - Memory management is crucial because it ensures the that program runs efficiently, uses memory as per the need and avoid memory leaks.  \n",
        "\n",
        "14. What is the role of try and except in exception handling?  \n",
        "  The role of try in exception handling is that it exceutes the block of code which may raise a exception . If it isn't raises an exception the try would work normally but if it raises a exception the code will go to the except block which will handle the exception.  \n",
        "    \n",
        "15. How does Python's garbage collection system work?  \n",
        "  - Python uses a built-in garbage collection (GC) system to automatically manage memory. It frees up memory by removing objects that are no longer in use.  \n",
        "\n",
        "16. What is the purpose of the else block in exception handling?  \n",
        "  - The purpose of else block in python is to execute the block of code which is required if there is no exception raised by the try block.  \n",
        "\n",
        "17. What are the common logging levels in Python?\n",
        "  - The common logging levels in python are:\n",
        "    a.) DEBUG\n",
        "    b.) INFO\n",
        "    c.) WARNING\n",
        "    d.) ERROR\n",
        "    e.) CRITICAL  \n",
        "      \n",
        "18. What is the difference between os.fork() and multiprocessing in Python?   \n",
        "  - Both os.fork() and the multiprocessing module are used to create new processes, but they differ in usage, portability, and abstraction.  \n",
        "\n",
        "19. What is the importance of closing a file in Python?\n",
        "  - closing a file free up the memory space and also prevents data from being compromised.  \n",
        "    \n",
        "20. What is the difference between file.read() and file.readline() in Python?  \n",
        "  - file.read()- It reads the entire file content as a single string.\n",
        "  - file.readline()- It reads the only one line of the line.  \n",
        "\n",
        "21. What is the logging module in Python used for?\n",
        "  -The logging module in Python is used to record messages about a program’s execution. It helps track errors, warnings, and other events during development and after deployment, making debugging and monitoring easier.  \n",
        "\n",
        "22. What is the os module in Python used for in file handling?  \n",
        "  - The os module in Python is used to interact with the operating system, especially for file and directory operations.  \n",
        "    \n",
        "23. What are the challenges associated with memory management in Python?\n",
        "  - Python's memory management can face issues like **circular references** and **memory leaks** when objects are unintentionally kept in memory.\n",
        "It also has **performance overhead** due to garbage collection and limitations like the **Global Interpreter Lock (GIL)**.\n",
        "\n",
        "24. How do you raise an exception manually in Python?  \n",
        "  - You can raise an exception manually in Python using the raise keyword followed by an exception type.\n",
        "          raise ValueError(\"Invalid input!\")\n",
        "\n",
        "25. Why is it important to use multithreading in certain applications?  \n",
        "  - Multithreading is important in certain applications to **perform multiple tasks concurrently**, improving responsiveness and efficiency—especially in **I/O-bound tasks** like file reading, web requests, or user interface operations.\n",
        "It helps make better use of system resources without blocking the main program flow.\n",
        "     \n",
        "                           "
      ],
      "metadata": {
        "id": "ejd2EUAFAzeE"
      }
    },
    {
      "cell_type": "markdown",
      "source": [
        "***PRACTICAL QUESTION***\n",
        "\n",
        "1. How can you open a file for writing in Python and write a string to it?"
      ],
      "metadata": {
        "id": "65q1HQHNvQ8_"
      }
    },
    {
      "cell_type": "code",
      "execution_count": null,
      "metadata": {
        "id": "71e83BTWAukx"
      },
      "outputs": [],
      "source": [
        "with open(\"new_file.txt\",\"w\") as file:\n",
        "  file.write(\"Hi! I am writing a string in this file \\n hello this is a new line.\")\n"
      ]
    },
    {
      "cell_type": "markdown",
      "source": [
        "2. Write a Python program to read the contents of a file and print each line."
      ],
      "metadata": {
        "id": "EljXNxwIwxiS"
      }
    },
    {
      "cell_type": "code",
      "source": [
        "with open(\"new_file.txt\",\"r\") as f:\n",
        "  print(f.read())"
      ],
      "metadata": {
        "colab": {
          "base_uri": "https://localhost:8080/"
        },
        "id": "FB6as3FywHaf",
        "outputId": "c557d995-c5f8-46df-8e2c-5cbe53a9d10b"
      },
      "execution_count": null,
      "outputs": [
        {
          "output_type": "stream",
          "name": "stdout",
          "text": [
            "Hi! I am writing a string in this file \n",
            " hello this is a new line.\n"
          ]
        }
      ]
    },
    {
      "cell_type": "markdown",
      "source": [
        "3. How would you handle a case where the file doesn't exist while trying to open it for reading?"
      ],
      "metadata": {
        "id": "EOQisw15cN2_"
      }
    },
    {
      "cell_type": "code",
      "source": [
        "#for such case we should go for excepton handling\n",
        "try:\n",
        "  with open(\"sample.txt\",\"r\") as s:  #We don't have any file name sample.txt still trying to open it in read mode.\n",
        "    content=s.read()  #Trying to read the file content\n",
        "except FileNotFoundError:  #Exception handling (specific error)\n",
        "  print(\"Sorry but the file doesn't exist\")    #Printing the graceful messsage"
      ],
      "metadata": {
        "id": "Xwi9jrMdxL51",
        "colab": {
          "base_uri": "https://localhost:8080/"
        },
        "outputId": "7bcefce9-5a59-4e9e-8acd-e2dba89caa50"
      },
      "execution_count": null,
      "outputs": [
        {
          "output_type": "stream",
          "name": "stdout",
          "text": [
            "Sorry but the file doesn't exist\n"
          ]
        }
      ]
    },
    {
      "cell_type": "markdown",
      "source": [
        "4. Write a Python script that reads from one file and writes its content to another file."
      ],
      "metadata": {
        "id": "p0l6cisFdjvN"
      }
    },
    {
      "cell_type": "code",
      "source": [
        "#We are creating the file amd writing content in it which will be later used to copy to another file\n",
        "with open(\"readfile.txt\",\"w\") as source:\n",
        "  source.write(\"This is the content which will be copied to another file\")\n"
      ],
      "metadata": {
        "id": "9PepWoF8ec1J"
      },
      "execution_count": null,
      "outputs": []
    },
    {
      "cell_type": "code",
      "source": [
        "with open(\"readfile.txt\",\"r\") as source:  # we are opening the file in read mode which we have created earlier\n",
        "  content=source.read() #we are rading file content and storing it  in content variable\n",
        "with open(\"writefile.txt\",\"w\") as destination: #here we opened a new file in write mode where the content will be copied\n",
        "  destination.write(content)  #here we are writing the content of other file to this file\n",
        "print(\"File successfully copied from 'readfile.txt' to 'writefile.txt' \")"
      ],
      "metadata": {
        "colab": {
          "base_uri": "https://localhost:8080/"
        },
        "id": "egWzF91wgDjS",
        "outputId": "fcbc73bc-0e90-4050-ff7a-bf0bc1925a18"
      },
      "execution_count": null,
      "outputs": [
        {
          "output_type": "stream",
          "name": "stdout",
          "text": [
            "File successfully copied from 'readfile.txt' to 'writefile.txt' \n"
          ]
        }
      ]
    },
    {
      "cell_type": "code",
      "source": [
        "with open(\"writefile.txt\",\"r\") as destination:\n",
        "  print(destination.read())"
      ],
      "metadata": {
        "colab": {
          "base_uri": "https://localhost:8080/"
        },
        "id": "qdrWV2wYgdth",
        "outputId": "4e4bc4ea-6624-4151-f6c1-43512d08969b"
      },
      "execution_count": null,
      "outputs": [
        {
          "output_type": "stream",
          "name": "stdout",
          "text": [
            "This is the content which will be copied to another file\n"
          ]
        }
      ]
    },
    {
      "cell_type": "markdown",
      "source": [
        "5. How would you catch and handle division by zero error in Python?\n"
      ],
      "metadata": {
        "id": "MOVjcTT0h79D"
      }
    },
    {
      "cell_type": "code",
      "source": [
        "#using exception handling\n",
        "try:\n",
        "  number=15\n",
        "  result=15/0\n",
        "  print(result)\n",
        "except ZeroDivisionError:\n",
        "  print(\"We can't divide any number by 0\")"
      ],
      "metadata": {
        "colab": {
          "base_uri": "https://localhost:8080/"
        },
        "id": "vVMp29vDhFB0",
        "outputId": "261b0bf4-a250-4f6c-d37d-d9a6455eabf2"
      },
      "execution_count": null,
      "outputs": [
        {
          "output_type": "stream",
          "name": "stdout",
          "text": [
            "We can't divide any number by 0\n"
          ]
        }
      ]
    },
    {
      "cell_type": "markdown",
      "source": [
        "6. Write a Python program that logs an error message to a log file when a division by zero exception occurs"
      ],
      "metadata": {
        "id": "SzhNP4ecj6PH"
      }
    },
    {
      "cell_type": "code",
      "source": [
        "import logging\n",
        "\n",
        "logging.basicConfig( filename=\"errorfile.log\", level=logging.error,format=\"%(asctime)s - %(levelname)s - %(message)s\")\n",
        "\n",
        "try:\n",
        "  num=10\n",
        "  result=num/0\n",
        "except ZeroDivisionError:\n",
        "  logging.error(\"You tried a Divison by 0 \")\n",
        "print(\"There is some error check log file for details\")"
      ],
      "metadata": {
        "colab": {
          "base_uri": "https://localhost:8080/"
        },
        "id": "-JIVaP_fjlbF",
        "outputId": "19e696fb-96d9-4632-8ec6-f21879914f15"
      },
      "execution_count": null,
      "outputs": [
        {
          "output_type": "stream",
          "name": "stderr",
          "text": [
            "ERROR:root:You tried a Divison by 0 \n"
          ]
        },
        {
          "output_type": "stream",
          "name": "stdout",
          "text": [
            "There is some error check log file for details\n"
          ]
        }
      ]
    },
    {
      "cell_type": "markdown",
      "source": [
        "7. How do you log information at different levels (INFO, ERROR, WARNING) in Python using the logging module?"
      ],
      "metadata": {
        "id": "bQKkO4FnnSvs"
      }
    },
    {
      "cell_type": "code",
      "source": [
        "import logging\n",
        "logging.basicConfig(filename=\"tst1_log.log\",level=logging.DEBUG,format= '%(asctime)s %(levelname)s %(message)s')\n",
        "logging.debug(\"This msg is for debugging\")\n",
        "logging.info(\"this msg is for info\")\n",
        "logging.warning(\"this msg is for warning\")\n",
        "logging.error(\"this msg is for error\")\n",
        "logging.critical(\"this is for critical\")"
      ],
      "metadata": {
        "colab": {
          "base_uri": "https://localhost:8080/"
        },
        "id": "dRELnwVEkMhi",
        "outputId": "be941523-2010-4cc2-9ccf-20afbb710d84"
      },
      "execution_count": null,
      "outputs": [
        {
          "output_type": "stream",
          "name": "stderr",
          "text": [
            "WARNING:root:this msg is for warning\n",
            "ERROR:root:this msg is for error\n",
            "CRITICAL:root:this is for critical\n"
          ]
        }
      ]
    },
    {
      "cell_type": "markdown",
      "source": [
        "8.Write a program to handle a file opening error using exception handling."
      ],
      "metadata": {
        "id": "MAdvoXkln8uR"
      }
    },
    {
      "cell_type": "code",
      "source": [
        "try:\n",
        "  with open(\"sample.txt\",\"r\") as s:  #We don't have any file name sample.txt still trying to open it in read mode.\n",
        "    content=s.read()  #Trying to read the file content\n",
        "except FileNotFoundError:  #Exception handling (specific error)\n",
        "  print(\"Sorry but the file doesn't exist\")    #Printing the graceful messsage   just note it dont say anything"
      ],
      "metadata": {
        "colab": {
          "base_uri": "https://localhost:8080/"
        },
        "id": "eQXSm39Vn4K4",
        "outputId": "1230f9ee-c07b-4f07-ee4e-641808fb2bd2"
      },
      "execution_count": null,
      "outputs": [
        {
          "output_type": "stream",
          "name": "stdout",
          "text": [
            "Sorry but the file doesn't exist\n"
          ]
        }
      ]
    },
    {
      "cell_type": "markdown",
      "source": [
        "9.How can you read a file line by line and store its content in a list in Python"
      ],
      "metadata": {
        "id": "dgZU6uAQo80M"
      }
    },
    {
      "cell_type": "code",
      "source": [
        "#Defining the content\n",
        "content=\"\"\"hello\n",
        "world\n",
        "python\n",
        "code\n",
        "writing\n",
        "\"\"\"\n",
        "\n",
        "with open(\"sample.txt\",\"w\") as sample:\n",
        "  sample.write(content)  #writing the content in the file using \"w\" method\n",
        "\n",
        "lst=[]  #Declaring a empty list\n",
        "with open(\"sample.txt\",\"r\") as sample:  #opening the fie again for reading\n",
        "    for i in sample:  #looping over every line in the file\n",
        "      lst.append(i.strip()) #appending the lines in list by using strip() which removes whitespaces and /n from the line\n",
        "\n",
        "print(lst) #printing the new lst"
      ],
      "metadata": {
        "colab": {
          "base_uri": "https://localhost:8080/"
        },
        "id": "P2Kc4k-bo0jP",
        "outputId": "caa01612-45fd-4dd1-e4b5-8e10aac4aac0"
      },
      "execution_count": null,
      "outputs": [
        {
          "output_type": "stream",
          "name": "stdout",
          "text": [
            "['hello', 'world', 'python', 'code', 'writing']\n"
          ]
        }
      ]
    },
    {
      "cell_type": "markdown",
      "source": [
        "10. How can you append data to an existing file in Python?"
      ],
      "metadata": {
        "id": "wfS0ZFXvta4I"
      }
    },
    {
      "cell_type": "code",
      "source": [
        "with open(\"file2.txt\",\"w\") as fil:\n",
        "  fil.write(\"This the first line\")\n",
        "\n",
        "with open (\"file2.txt\",\"a\") as fil:\n",
        "  fil.write(\"\\nThis the second line which is appended\")\n",
        "\n",
        "with open (\"file2.txt\",\"r\") as fil:\n",
        "  print(fil.read())\n"
      ],
      "metadata": {
        "colab": {
          "base_uri": "https://localhost:8080/"
        },
        "id": "5REJ0jv9qAKx",
        "outputId": "20267c2d-3804-4cb6-89a6-ca97cacf1fd9"
      },
      "execution_count": 6,
      "outputs": [
        {
          "output_type": "stream",
          "name": "stdout",
          "text": [
            "This the first line\n",
            "This the second line which is appended\n"
          ]
        }
      ]
    },
    {
      "cell_type": "markdown",
      "source": [
        "11. Write a Python program that uses a try-except block to handle an error when attempting to access a dictionary key that doesn't exist."
      ],
      "metadata": {
        "id": "xnY2kd-qvgKK"
      }
    },
    {
      "cell_type": "code",
      "source": [
        "dictionary={\"Name\":\"John\",\n",
        "\"Age\":63}\n",
        "\n",
        "try:\n",
        "  dictionary[\"Gender\"]\n",
        "except KeyError: #Exception handling\n",
        "  print(\"The key which you are trying to acces is not in the dictionary\")  #printing a graceful message"
      ],
      "metadata": {
        "colab": {
          "base_uri": "https://localhost:8080/"
        },
        "id": "cw6lfy-4vhwi",
        "outputId": "d8a2f6e9-f7ee-48f3-acc2-ee4b5851c707"
      },
      "execution_count": null,
      "outputs": [
        {
          "output_type": "stream",
          "name": "stdout",
          "text": [
            "The key which you are trying to acces is not in the dictionary\n"
          ]
        }
      ]
    },
    {
      "cell_type": "markdown",
      "source": [
        "12.Write a program that demonstrates using multiple except blocks to handle different types of exceptions."
      ],
      "metadata": {
        "id": "r4tAEZDnvgzE"
      }
    },
    {
      "cell_type": "code",
      "source": [
        "try:\n",
        "  10/\"k\"\n",
        "except ZeroDivisionError:\n",
        "  print(\"You can't divide anything with 0\")\n",
        "except KeyError:\n",
        "  print(\"The key is not in the dictionary\")\n",
        "except IndexError:\n",
        "  print(\"The index isout of range\")\n",
        "except TypeError:\n",
        "  print(\"The values are of different types\")\n"
      ],
      "metadata": {
        "id": "pboxS32guiqW",
        "colab": {
          "base_uri": "https://localhost:8080/"
        },
        "outputId": "3f0dbce5-e3c8-47ad-c86b-55b8ccdc3a29"
      },
      "execution_count": 1,
      "outputs": [
        {
          "output_type": "stream",
          "name": "stdout",
          "text": [
            "The values are of different types\n"
          ]
        }
      ]
    },
    {
      "cell_type": "markdown",
      "source": [
        "13. How would you check if a file exists before attempting to read it in Python?"
      ],
      "metadata": {
        "id": "_tSGkvJQT5oS"
      }
    },
    {
      "cell_type": "code",
      "source": [
        "import os\n",
        "if os.path.exists(\"sample.txt\"): #Checking the existance of the file\n",
        "  with open(\"sample.txt\",\"r\") as r:\n",
        "    r.read()\n",
        "else:\n",
        "  print(\"File doesn't exist\")"
      ],
      "metadata": {
        "colab": {
          "base_uri": "https://localhost:8080/"
        },
        "id": "6zyTlkCmTesS",
        "outputId": "3fcc22bb-75fd-405c-cd30-3d193ebef612"
      },
      "execution_count": 2,
      "outputs": [
        {
          "output_type": "stream",
          "name": "stdout",
          "text": [
            "File doesn't exist\n"
          ]
        }
      ]
    },
    {
      "cell_type": "markdown",
      "source": [
        "14. Write a program that uses the logging module to log both informational and error messages"
      ],
      "metadata": {
        "id": "0bL3XO8rUpm4"
      }
    },
    {
      "cell_type": "code",
      "source": [
        "import logging\n",
        "logging.basicConfig(\n",
        "    filename=\"app_log.log\",         # Log file name\n",
        "    level=logging.DEBUG,            # Capture info and error logs\n",
        "    format=\"%(asctime)s - %(levelname)s - %(message)s\"\n",
        ")\n",
        "\n",
        "logging.info(\"The program staretd successfully\")\n",
        "\n",
        "try:\n",
        "  10/0\n",
        "except ZeroDivisionError as e: #Exception handling\n",
        "  print(\"It is not possible becuase of\",e)"
      ],
      "metadata": {
        "colab": {
          "base_uri": "https://localhost:8080/"
        },
        "id": "HwGak8uYUZRo",
        "outputId": "2c4894f0-1317-4ee7-f2c5-c912e523d5ec"
      },
      "execution_count": 4,
      "outputs": [
        {
          "output_type": "stream",
          "name": "stdout",
          "text": [
            "It is not possible becuase of division by zero\n"
          ]
        }
      ]
    },
    {
      "cell_type": "markdown",
      "source": [
        "15. Write a Python program that prints the content of a file and handles the case when the file is empty"
      ],
      "metadata": {
        "id": "GTdIwT3AVdkF"
      }
    },
    {
      "cell_type": "code",
      "source": [
        "try:\n",
        "    with open(\"file2.txt\", \"r\") as file:\n",
        "        content = file.read()\n",
        "        if content.strip() == \"\":\n",
        "            print(\"The file is empty.\")\n",
        "        else:\n",
        "            print(\"File content:\\n\")\n",
        "            print(content)\n",
        "except FileNotFoundError:\n",
        "    print(\"The file does not exist.\")\n"
      ],
      "metadata": {
        "colab": {
          "base_uri": "https://localhost:8080/"
        },
        "id": "ogH8Eq32VM_4",
        "outputId": "cb47e1c2-3c22-4047-9377-22c5bdfa01cc"
      },
      "execution_count": 7,
      "outputs": [
        {
          "output_type": "stream",
          "name": "stdout",
          "text": [
            "File content:\n",
            "\n",
            "This the first line\n",
            "This the second line which is appended\n"
          ]
        }
      ]
    },
    {
      "cell_type": "markdown",
      "source": [
        "16. Demonstrate how to use memory profiling to check the memory usage of a small program"
      ],
      "metadata": {
        "id": "kHWED6i1VeOR"
      }
    },
    {
      "cell_type": "code",
      "source": [
        "from memory_profiler import memory_usage\n",
        "\n",
        "def my_function():\n",
        "    x = [i for i in range(100000)]\n",
        "    return x\n",
        "\n",
        "mem_used = memory_usage(my_function)\n",
        "print(f\"Memory used: {mem_used[-1] - mem_used[0]:.2f} MiB\")\n",
        "\n"
      ],
      "metadata": {
        "id": "v6ZB8DekVexV"
      },
      "execution_count": 10,
      "outputs": []
    },
    {
      "cell_type": "markdown",
      "source": [
        "17. Write a Python program to create and write a list of numbers to a file, one number per line"
      ],
      "metadata": {
        "id": "hfDJhbzpW01e"
      }
    },
    {
      "cell_type": "code",
      "source": [
        "# List of numbers\n",
        "numbers = [10, 20, 30, 40, 50]\n",
        "\n",
        "# Open the file in write mode\n",
        "with open(\"numbers.txt\", \"w\") as file:\n",
        "    for num in numbers:\n",
        "        file.write(f\"{num}\\n\")  # Write each number followed by a newline\n",
        "\n",
        "print(\"Numbers written to numbers.txt\")\n"
      ],
      "metadata": {
        "colab": {
          "base_uri": "https://localhost:8080/"
        },
        "id": "dnoJVRVsWQOn",
        "outputId": "35c8248b-2472-4524-e5fe-92c82aa8d77d"
      },
      "execution_count": 11,
      "outputs": [
        {
          "output_type": "stream",
          "name": "stdout",
          "text": [
            "Numbers written to numbers.txt\n"
          ]
        }
      ]
    },
    {
      "cell_type": "markdown",
      "source": [
        "18. How would you implement a basic logging setup that logs to a file with rotation after 1MB"
      ],
      "metadata": {
        "id": "jsei9X3VXMPk"
      }
    },
    {
      "cell_type": "code",
      "source": [
        "import logging\n",
        "from logging.handlers import RotatingFileHandler\n",
        "\n",
        "# Set up Rotating File Handler\n",
        "handler = RotatingFileHandler(\n",
        "    \"app.log\",      # Log file name\n",
        "    maxBytes=1 * 1024 * 1024,  # 1MB = 1 * 1024 * 1024 bytes\n",
        "    backupCount=3   # Keep up to 3 old log files as backup\n",
        ")\n",
        "\n",
        "# Set log format\n",
        "formatter = logging.Formatter('%(asctime)s - %(levelname)s - %(message)s')\n",
        "handler.setFormatter(formatter)\n",
        "\n",
        "# Get the root logger and attach handler\n",
        "logger = logging.getLogger()\n",
        "logger.setLevel(logging.INFO)\n",
        "logger.addHandler(handler)\n",
        "\n",
        "# Example log entries\n",
        "for i in range(10000):\n",
        "    logger.info(f\"This is log message number {i}\")\n"
      ],
      "metadata": {
        "id": "0jR9_rlDXE4W"
      },
      "execution_count": 13,
      "outputs": []
    },
    {
      "cell_type": "markdown",
      "source": [
        "  19. Write a program that handles both IndexError and KeyError using a try-except block"
      ],
      "metadata": {
        "id": "jf_O7JP-X7Rv"
      }
    },
    {
      "cell_type": "code",
      "source": [
        "my_list = [1, 2, 3]\n",
        "my_dict = {\"name\": \"Ashutosh\"}\n",
        "\n",
        "try:\n",
        "    print(my_list[5])           # This will raise IndexError\n",
        "    print(my_dict[\"age\"])       # This will raise KeyError (if reached)\n",
        "except IndexError:\n",
        "    print(\"IndexError: List index is out of range.\")\n",
        "except KeyError:\n",
        "    print(\"KeyError: Key not found in the dictionary.\")\n"
      ],
      "metadata": {
        "colab": {
          "base_uri": "https://localhost:8080/"
        },
        "id": "vS8jyO99XU_q",
        "outputId": "7d8fbe95-b43a-4aeb-c80f-175dfccac5bb"
      },
      "execution_count": 14,
      "outputs": [
        {
          "output_type": "stream",
          "name": "stdout",
          "text": [
            "IndexError: List index is out of range.\n"
          ]
        }
      ]
    },
    {
      "cell_type": "markdown",
      "source": [
        "20. How would you open a file and read its contents using a context manager in Python"
      ],
      "metadata": {
        "id": "Ci2-GlFGYIRW"
      }
    },
    {
      "cell_type": "code",
      "source": [
        "with open(\"file2.txt\", \"r\") as file:\n",
        "    content = file.read()\n",
        "    print(content)\n"
      ],
      "metadata": {
        "colab": {
          "base_uri": "https://localhost:8080/"
        },
        "id": "3OxNnc53YAY_",
        "outputId": "90056098-bf2d-4ce2-8de7-64e847627774"
      },
      "execution_count": 16,
      "outputs": [
        {
          "output_type": "stream",
          "name": "stdout",
          "text": [
            "This the first line\n",
            "This the second line which is appended\n"
          ]
        }
      ]
    },
    {
      "cell_type": "markdown",
      "source": [
        "21. Write a Python program that reads a file and prints the number of occurrences of a specific word"
      ],
      "metadata": {
        "id": "_2EWo3b-YVfz"
      }
    },
    {
      "cell_type": "code",
      "source": [
        "with open(\"newfile.txt\",\"w\") as fill:\n",
        "  fill.write(\"Hi this is the file to read the specific word and count it's occurnace. so the word is Hi , Hi , Hi \")\n",
        "\n",
        "def count_word_occurrences(filename, target_word):\n",
        "    try:\n",
        "        with open(filename, \"r\") as file:\n",
        "            content = file.read()\n",
        "            word_list = content.lower().split()\n",
        "            count = word_list.count(target_word.lower())\n",
        "            print(f\"The word '{target_word}' occurred {count} times.\")\n",
        "    except FileNotFoundError:\n",
        "        print(\"The file does not exist.\")\n",
        "\n",
        "# Run the function with your specified values\n",
        "count_word_occurrences(\"newfile.txt\", \"Hi\")\n",
        "\n"
      ],
      "metadata": {
        "colab": {
          "base_uri": "https://localhost:8080/"
        },
        "id": "7xiHwdj7YQf7",
        "outputId": "e275e63d-8694-4622-dc2f-24404cf8cefa"
      },
      "execution_count": 20,
      "outputs": [
        {
          "output_type": "stream",
          "name": "stdout",
          "text": [
            "The word 'Hi' occurred 4 times.\n"
          ]
        }
      ]
    },
    {
      "cell_type": "markdown",
      "source": [
        "22. How can you check if a file is empty before attempting to read its contents?\n"
      ],
      "metadata": {
        "id": "qPLmtQdgZsy6"
      }
    },
    {
      "cell_type": "code",
      "source": [
        "import os\n",
        "\n",
        "file_path = \"newfile.txt\"\n",
        "\n",
        "if os.path.exists(file_path) and os.stat(file_path).st_size == 0:\n",
        "    print(\"The file is empty.\")\n",
        "else:\n",
        "    with open(\"newfile.txt\", \"r\") as file:\n",
        "        content = file.read()\n",
        "        print(content)\n"
      ],
      "metadata": {
        "colab": {
          "base_uri": "https://localhost:8080/"
        },
        "id": "yPJgCjJrYg7p",
        "outputId": "37ea7af4-8f06-4c8c-ded7-4ef933baa1d5"
      },
      "execution_count": 23,
      "outputs": [
        {
          "output_type": "stream",
          "name": "stdout",
          "text": [
            "Hi this is the file to read the specific word and count it's occurnace. so the word is Hi , Hi , Hi \n"
          ]
        }
      ]
    },
    {
      "cell_type": "markdown",
      "source": [
        "23. Write a Python program that writes to a log file when an error occurs during file handling"
      ],
      "metadata": {
        "id": "76HjI_KoZ_ty"
      }
    },
    {
      "cell_type": "code",
      "source": [
        "import logging\n",
        "\n",
        "# Configure the logging system\n",
        "logging.basicConfig(\n",
        "    filename='file_error.log',\n",
        "    level=logging.ERROR,\n",
        "    format='%(asctime)s - %(levelname)s - %(message)s'\n",
        ")\n",
        "\n",
        "try:\n",
        "    with open(\"sample.txt\", \"r\") as file:\n",
        "        content = file.read()\n",
        "        print(content)\n",
        "\n",
        "except FileNotFoundError as e:\n",
        "    logging.error(\"FileNotFoundError: The file does not exist.\")\n",
        "    print(\"Error: The file was not found. Check log for details.\")\n",
        "\n",
        "except Exception as e:\n",
        "    logging.error(f\"Unexpected error: {e}\")\n",
        "    print(\"An unexpected error occurred. Check log for details.\")\n",
        "\n"
      ],
      "metadata": {
        "colab": {
          "base_uri": "https://localhost:8080/"
        },
        "id": "MiY2XlStZxEf",
        "outputId": "521451d7-5392-4874-c3df-ac153954a995"
      },
      "execution_count": 25,
      "outputs": [
        {
          "output_type": "stream",
          "name": "stderr",
          "text": [
            "ERROR:root:FileNotFoundError: The file does not exist.\n"
          ]
        },
        {
          "output_type": "stream",
          "name": "stdout",
          "text": [
            "Error: The file was not found. Check log for details.\n"
          ]
        }
      ]
    },
    {
      "cell_type": "code",
      "source": [],
      "metadata": {
        "id": "NWBRpjpWaEw2"
      },
      "execution_count": null,
      "outputs": []
    }
  ]
}